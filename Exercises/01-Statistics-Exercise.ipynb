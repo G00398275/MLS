{
 "cells": [
  {
   "cell_type": "markdown",
   "id": "cd3f0b91",
   "metadata": {},
   "source": [
    "# Ross Downey - Machine Learning & Statistics\n",
    "\n",
    "# ATU - Winter 2022\n",
    "\n",
    "## Fisher's Lady Drinking Tea Problem - Exercises\n",
    "\n",
    "### Exercise 1.1\n",
    "***\n",
    "<br><br>\n",
    "__The above gives about a 1.5% chance of randomly selecting the correct cups. Calculate the minimum number of cups of tea required to ensure the probability of randomly selecting the correct cups is less than or equal to 1%.__\n"
   ]
  },
  {
   "cell_type": "code",
   "execution_count": 1,
   "id": "ac28b315",
   "metadata": {},
   "outputs": [],
   "source": [
    "# Importing math module\n",
    "import math as math"
   ]
  },
  {
   "cell_type": "code",
   "execution_count": 2,
   "id": "4cfb3331",
   "metadata": {},
   "outputs": [
    {
     "data": {
      "text/plain": [
       "70"
      ]
     },
     "execution_count": 2,
     "metadata": {},
     "output_type": "execute_result"
    }
   ],
   "source": [
    "# The number of permutations of selecting four cups from 8 choices\n",
    "# Ref https://www.w3schools.com/python/ref_math_comb.asp\n",
    "math.comb(8,4)"
   ]
  },
  {
   "cell_type": "code",
   "execution_count": 3,
   "id": "8d222c07",
   "metadata": {},
   "outputs": [
    {
     "data": {
      "text/plain": [
       "1.429"
      ]
     },
     "execution_count": 3,
     "metadata": {},
     "output_type": "execute_result"
    }
   ],
   "source": [
    "# Therefore, the probability of selecting four cups from 8 is:\n",
    "round(100/(math.comb(8,4)),3)\n",
    "# using round function for better display of result and multiply by 100 for % value"
   ]
  },
  {
   "cell_type": "markdown",
   "id": "b7b1da79",
   "metadata": {},
   "source": [
    "If we wanted to increase the number of cups, and consequently the number of cups of tea made with milk first, we could do the following:\n",
    "***"
   ]
  },
  {
   "cell_type": "code",
   "execution_count": 4,
   "id": "3578dec8",
   "metadata": {},
   "outputs": [
    {
     "data": {
      "text/plain": [
       "252"
      ]
     },
     "execution_count": 4,
     "metadata": {},
     "output_type": "execute_result"
    }
   ],
   "source": [
    "# Increasing the experiment to 10 cups of tea in total, with 5 of them having been made with milk first\n",
    "# The number of permutations of selecting five correctly are:\n",
    "math.comb(10,5)"
   ]
  },
  {
   "cell_type": "code",
   "execution_count": 5,
   "id": "24d962b1",
   "metadata": {},
   "outputs": [
    {
     "data": {
      "text/plain": [
       "0.397"
      ]
     },
     "execution_count": 5,
     "metadata": {},
     "output_type": "execute_result"
    }
   ],
   "source": [
    "# The probabilityof seelcting 5 cups from 10 is:\n",
    "round(100/(math.comb(10,5)),3)"
   ]
  },
  {
   "cell_type": "markdown",
   "id": "e458168b",
   "metadata": {},
   "source": [
    "From this it can be stated that the probability of selecting 5 correctly from 10 is much lower than selecting 4 correctly from 8 (0.397% compared to 1.429%). A value somewhere between 4 out of 8, and 5 out of 10 will yield a probability of less than or equal to 1%.\n",
    "***"
   ]
  },
  {
   "cell_type": "code",
   "execution_count": 6,
   "id": "83891432",
   "metadata": {},
   "outputs": [
    {
     "data": {
      "text/plain": [
       "0.794"
      ]
     },
     "execution_count": 6,
     "metadata": {},
     "output_type": "execute_result"
    }
   ],
   "source": [
    "# Try 4 cups out of 9\n",
    "round(100/(math.comb(9,4)),3)"
   ]
  },
  {
   "cell_type": "markdown",
   "id": "10fefa0a",
   "metadata": {},
   "source": [
    "Adding an extra cup to the test, but maintaining the same number of cups of tea made with milk first yields a probability of approx. 0.8% which is less than  or equal to 1%. This is the correct answer to the initial question.\n",
    "***"
   ]
  },
  {
   "cell_type": "markdown",
   "id": "4b1309d2",
   "metadata": {},
   "source": [
    "__Bonus: How many would be required if you were to let the taster get one cup wrong while maintaining the 1% threshold?__"
   ]
  },
  {
   "cell_type": "markdown",
   "id": "084be36d-94d5-47f6-bdfa-eac511a5b216",
   "metadata": {},
   "source": [
    "To answer this question we need to replace the second digit in the \"math.comb\" python function with a 3. This indicates that the lady in question needs to only select three of the cups of tea that were made with milk being added first."
   ]
  },
  {
   "cell_type": "code",
   "execution_count": 7,
   "id": "c829ea32",
   "metadata": {},
   "outputs": [
    {
     "data": {
      "text/plain": [
       "1.786"
      ]
     },
     "execution_count": 7,
     "metadata": {},
     "output_type": "execute_result"
    }
   ],
   "source": [
    "# Initially leave the total number of cups at 8 and change the number of correct answers made to 3 \n",
    "# i.e. \"8 choose 3\" in mathematical terms\n",
    "\n",
    "round(100/(math.comb(8,3)),3)"
   ]
  },
  {
   "cell_type": "markdown",
   "id": "5ef75237-080d-4b44-a2bb-1f6bd3286d6b",
   "metadata": {},
   "source": [
    "This implies that the probability of the lady choosing 3 correct cups from eight is approx 1.8%.<br>\n",
    "In order to answer this question we need a probability in the region of 1%\n",
    "***"
   ]
  },
  {
   "cell_type": "code",
   "execution_count": 8,
   "id": "c587ee34-9e4b-4bab-80e0-0662d52e5bc5",
   "metadata": {},
   "outputs": [
    {
     "data": {
      "text/plain": [
       "1.19"
      ]
     },
     "execution_count": 8,
     "metadata": {},
     "output_type": "execute_result"
    }
   ],
   "source": [
    "# Try 9 cups\n",
    "\n",
    "round(100/(math.comb(9,3)),3)\n"
   ]
  },
  {
   "cell_type": "code",
   "execution_count": 9,
   "id": "57259e2d-2f13-41de-909e-5e827ebe69fc",
   "metadata": {},
   "outputs": [
    {
     "data": {
      "text/plain": [
       "0.833"
      ]
     },
     "execution_count": 9,
     "metadata": {},
     "output_type": "execute_result"
    }
   ],
   "source": [
    "# And 10 cups\n",
    "\n",
    "round(100/(math.comb(10,3)),3)"
   ]
  },
  {
   "cell_type": "markdown",
   "id": "77724b98-1a06-4fa2-8adb-3f26b1bce970",
   "metadata": {},
   "source": [
    "Although both 9 and 10 cups give an answer in the 1% region the one closest to our original answer of 0.794% is using 10 cups in total.<br>\n",
    "The number of cups required to yield a probability of 1% with the taster getting one wrong is 10.\n",
    "***"
   ]
  },
  {
   "cell_type": "markdown",
   "id": "6796e14b-8423-40ac-9ffc-eea8b6299e29",
   "metadata": {},
   "source": [
    "__Use scipy's version of Fisher's exact test to simulate the Lady Tasting Tea problem.__"
   ]
  },
  {
   "cell_type": "code",
   "execution_count": 10,
   "id": "7b49ebfb-843e-4420-869e-8712f8dd0da2",
   "metadata": {},
   "outputs": [],
   "source": [
    "# Importing scipy stats\n",
    "\n",
    "import scipy.stats as ss"
   ]
  },
  {
   "cell_type": "markdown",
   "id": "ffcfc04e-3b0c-438e-bb57-87f3057afa2b",
   "metadata": {},
   "source": [
    "Scipy is an open source Python library that is used to perform a wide variety of scientific and technical computing tasks, including statistical operations. <br>\n",
    "Ref: https://en.wikipedia.org/wiki/SciPy <br>\n",
    "Ref: https://docs.scipy.org/doc/scipy/reference/stats.html <br>\n",
    "***\n",
    "<br>\n",
    "Fisher's exact test is used to analyse categorical datasets that are classified in two different ways. <br>\n",
    "In this case our two classifications are either the tea was made with milk first, or the tea was made with milk added second. <br>\n",
    "The result yielded is called a \"P-value\" which indicates the difference from a null hypothesis. <br>\n",
    "The null hypothesis in this case would be that the lady is completely guessing and can't tell the difference between the cups of tea. <br>"
   ]
  },
  {
   "cell_type": "markdown",
   "id": "1193edb8-dafc-4726-a2bf-1749d70f5d42",
   "metadata": {},
   "source": [
    "***\n",
    "The fisher exact table below is entered in a 2-Dimensional manner.<br>\n",
    "The first square brackets [4,0] indicates the likelihood of the lady selecting 4 correct cups of tea which had milk added first.<br>\n",
    "The second square brackets [0,4] is the other extreme where the lady does not select any correct cup of tea. <br>\n",
    "The data inbetween is also plotted i.e [1,3], [2,2], [3,1] etc.<br>\n",
    "This is where the lady selects 1 correct, 2, correct, 3 correct etc. <br>\n"
   ]
  },
  {
   "cell_type": "code",
   "execution_count": 11,
   "id": "d02c08a4-802e-4a90-8760-5e26cfbf2fbc",
   "metadata": {},
   "outputs": [
    {
     "data": {
      "text/plain": [
       "(inf, 0.028571428571428536)"
      ]
     },
     "execution_count": 11,
     "metadata": {},
     "output_type": "execute_result"
    }
   ],
   "source": [
    "# using scipy stats\n",
    "# The P - value below is 0.0285, double the probability calculated previously.\n",
    "# As this is a 2 sided test this gives the probabaility at both ends of the plot i.e. double.\n",
    "\n",
    "ss.fisher_exact([[4,0],[0,4]])"
   ]
  },
  {
   "cell_type": "code",
   "execution_count": 12,
   "id": "a27744b9-b04c-4349-a0e8-978edeeb8087",
   "metadata": {},
   "outputs": [
    {
     "data": {
      "text/plain": [
       "array([0.01428571, 0.22857143, 0.51428571, 0.22857143, 0.01428571])"
      ]
     },
     "execution_count": 12,
     "metadata": {},
     "output_type": "execute_result"
    }
   ],
   "source": [
    "# Adapted from official scipy documentation\n",
    "# Ref: https://docs.scipy.org/doc/scipy/reference/generated/scipy.stats.fisher_exact.html\n",
    "# Hypergeometric is a discrete random variable where the data is chosen from a bin\n",
    "# Ref: https://docs.scipy.org/doc/scipy/reference/generated/scipy.stats.hypergeom.html#scipy.stats.hypergeom\n",
    "\n",
    "from scipy.stats import hypergeom\n",
    "import numpy as np\n",
    "table = np.array([[4, 0], [0, 4]])\n",
    "M = table.sum()\n",
    "n = table[0].sum()\n",
    "N = table[:, 0].sum()\n",
    "start, end = hypergeom.support(M, n, N)\n",
    "hypergeom.pmf(np.arange(start, end+1), M, n, N)"
   ]
  },
  {
   "cell_type": "markdown",
   "id": "99eff73d-5b6e-4d63-badf-c752b045e6a7",
   "metadata": {},
   "source": [
    "The above results are an indication of the probabilities of each outcome.<br>\n",
    "The probability of selecting all four cups correctly is approx. 1.4% (0.014 * 100)<br>\n",
    "The probability of selecting 3 out of 4 cups correctly is 22.85%, and so on <br>\n",
    "This is a more efficient way of calculating the probability of all possible outcomes. <br>\n",
    "This could be done using the math.comb function but this would be more labour intensive\n",
    "***"
   ]
  },
  {
   "cell_type": "markdown",
   "id": "dab1a51a-6421-44af-a044-0b642399c08a",
   "metadata": {},
   "source": [
    "The evaluation of these results is typically done by assessing the p-value and comparing to 0 and 0.05. <br>\n",
    "The closer the value to zero the more likely that the null hypothesis can be rejected. <br>\n",
    "In this case the null hypothesis is that the lady can't distinguish between the two types of tea. <br>\n",
    "The 0.05 value is an arbritrary value (5% probability) that there is some statistical significance in the data. <br>\n",
    "As previously stated, the lady has a 1.4% probability (1 in 70) of selecting the correct cups at random without any tasting. <br>\n",
    "Fisher's Lady Tasting Tea Problem has now been simulated using scipy.stats.\n",
    "***\n",
    "\n"
   ]
  },
  {
   "cell_type": "markdown",
   "id": "17247b78-b2c6-4eb0-b7f5-05af012293a4",
   "metadata": {},
   "source": [
    "## End"
   ]
  }
 ],
 "metadata": {
  "kernelspec": {
   "display_name": "Python 3",
   "language": "python",
   "name": "python3"
  },
  "language_info": {
   "codemirror_mode": {
    "name": "ipython",
    "version": 3
   },
   "file_extension": ".py",
   "mimetype": "text/x-python",
   "name": "python",
   "nbconvert_exporter": "python",
   "pygments_lexer": "ipython3",
   "version": "3.8.8"
  }
 },
 "nbformat": 4,
 "nbformat_minor": 5
}
