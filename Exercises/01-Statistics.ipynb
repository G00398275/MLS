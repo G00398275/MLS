{
 "cells": [
  {
   "cell_type": "markdown",
   "id": "cd3f0b91",
   "metadata": {},
   "source": [
    "# Ross Downey - Machine Learning & Statistics\n",
    "\n",
    "# ATU - Winter 2022\n",
    "\n",
    "## Fisher's Lady Drinking Tea Problem - Exercises\n",
    "\n",
    "### Exercise 1.1\n",
    "***\n",
    "<br><br>\n",
    "__The above gives about a 1.5% chance of randomly selecting the correct cups. Calculate the minimum number of cups of tea required to ensure the probability of randomly selecting the correct cups is less than or equal to 1%.__\n"
   ]
  },
  {
   "cell_type": "code",
   "execution_count": 1,
   "id": "ac28b315",
   "metadata": {},
   "outputs": [],
   "source": [
    "# Importing math module\n",
    "import math as math"
   ]
  },
  {
   "cell_type": "code",
   "execution_count": 2,
   "id": "4cfb3331",
   "metadata": {},
   "outputs": [
    {
     "data": {
      "text/plain": [
       "70"
      ]
     },
     "execution_count": 2,
     "metadata": {},
     "output_type": "execute_result"
    }
   ],
   "source": [
    "# The number of permutations of selecting four cups from 8 choices\n",
    "# Ref https://www.w3schools.com/python/ref_math_comb.asp\n",
    "math.comb(8,4)"
   ]
  },
  {
   "cell_type": "code",
   "execution_count": 3,
   "id": "8d222c07",
   "metadata": {},
   "outputs": [
    {
     "data": {
      "text/plain": [
       "1.429"
      ]
     },
     "execution_count": 3,
     "metadata": {},
     "output_type": "execute_result"
    }
   ],
   "source": [
    "# Therefore, the probability of selecting four cups from 8 is:\n",
    "round(100/(math.comb(8,4)),3)\n",
    "# using round function for better display of result and multiply by 100 for % value"
   ]
  },
  {
   "cell_type": "markdown",
   "id": "b7b1da79",
   "metadata": {},
   "source": [
    "If we wanted to increase the number of cups, and consequently the number of cups of tea made with milk first, we could do the following:\n",
    "***"
   ]
  },
  {
   "cell_type": "code",
   "execution_count": 4,
   "id": "3578dec8",
   "metadata": {},
   "outputs": [
    {
     "data": {
      "text/plain": [
       "252"
      ]
     },
     "execution_count": 4,
     "metadata": {},
     "output_type": "execute_result"
    }
   ],
   "source": [
    "# Increasing the experiment to 10 cups of tea in total, with 5 of them having been made with milk first\n",
    "# The number of permutations of selecting five correctly are:\n",
    "math.comb(10,5)"
   ]
  },
  {
   "cell_type": "code",
   "execution_count": 5,
   "id": "24d962b1",
   "metadata": {},
   "outputs": [
    {
     "data": {
      "text/plain": [
       "0.397"
      ]
     },
     "execution_count": 5,
     "metadata": {},
     "output_type": "execute_result"
    }
   ],
   "source": [
    "# The probabilityof seelcting 5 cups from 10 is:\n",
    "round(100/(math.comb(10,5)),3)"
   ]
  },
  {
   "cell_type": "markdown",
   "id": "e458168b",
   "metadata": {},
   "source": [
    "From this it can be stated that the probability of selecting 5 correctly from 10 is much lower than selecting 4 correctly from 8 (0.397% compared to 1.429%). A value somewhere between 4 out of 8, and 5 out of 10 will yield a probability of less than or equal to 1%.\n",
    "***"
   ]
  },
  {
   "cell_type": "code",
   "execution_count": 6,
   "id": "83891432",
   "metadata": {},
   "outputs": [
    {
     "data": {
      "text/plain": [
       "0.794"
      ]
     },
     "execution_count": 6,
     "metadata": {},
     "output_type": "execute_result"
    }
   ],
   "source": [
    "# Try 4 cups out of 9\n",
    "round(100/(math.comb(9,4)),3)"
   ]
  },
  {
   "cell_type": "markdown",
   "id": "10fefa0a",
   "metadata": {},
   "source": [
    "Adding an extra cup to the test, but maintaining the same number of cups of tea made with milk first yields a probability of approx. 0.8% which is less than  or equal to 1%. This is the correct answer to the initial question.\n",
    "***"
   ]
  },
  {
   "cell_type": "markdown",
   "id": "4b1309d2",
   "metadata": {},
   "source": [
    "__Bonus: How many would be required if you were to let the taster get one cup wrong while maintaining the 1% threshold?__"
   ]
  },
  {
   "cell_type": "markdown",
   "id": "084be36d-94d5-47f6-bdfa-eac511a5b216",
   "metadata": {},
   "source": [
    "To answer this question we need to replace the second digit in the \"math.comb\" python function with a 3. This indicates that the lady in question needs to only select three of the cups of tea that were made with milk being added first."
   ]
  },
  {
   "cell_type": "code",
   "execution_count": 7,
   "id": "c829ea32",
   "metadata": {},
   "outputs": [
    {
     "data": {
      "text/plain": [
       "1.786"
      ]
     },
     "execution_count": 7,
     "metadata": {},
     "output_type": "execute_result"
    }
   ],
   "source": [
    "# Initially leave the total number of cups at 8 and change the number of correct answers made to 3 \n",
    "# i.e. \"8 choose 3\" in mathematical terms\n",
    "\n",
    "round(100/(math.comb(8,3)),3)"
   ]
  },
  {
   "cell_type": "markdown",
   "id": "5ef75237-080d-4b44-a2bb-1f6bd3286d6b",
   "metadata": {},
   "source": [
    "This implies that the probability of the lady choosing 3 correct cups from eight is approx 1.8%.<br>\n",
    "In order to answer this question we need a probability in the region of 1%\n",
    "***"
   ]
  },
  {
   "cell_type": "code",
   "execution_count": 8,
   "id": "c587ee34-9e4b-4bab-80e0-0662d52e5bc5",
   "metadata": {},
   "outputs": [
    {
     "data": {
      "text/plain": [
       "1.19"
      ]
     },
     "execution_count": 8,
     "metadata": {},
     "output_type": "execute_result"
    }
   ],
   "source": [
    "# Try 9 cups\n",
    "\n",
    "round(100/(math.comb(9,3)),3)\n"
   ]
  },
  {
   "cell_type": "code",
   "execution_count": 9,
   "id": "57259e2d-2f13-41de-909e-5e827ebe69fc",
   "metadata": {},
   "outputs": [
    {
     "data": {
      "text/plain": [
       "0.833"
      ]
     },
     "execution_count": 9,
     "metadata": {},
     "output_type": "execute_result"
    }
   ],
   "source": [
    "# And 10 cups\n",
    "\n",
    "round(100/(math.comb(10,3)),3)"
   ]
  },
  {
   "cell_type": "markdown",
   "id": "77724b98-1a06-4fa2-8adb-3f26b1bce970",
   "metadata": {},
   "source": [
    "Although both 9 and 10 cups give an answer in the 1% region the one closest to our original answer of 0.794% is using 10 cups in total.<br>\n",
    "The number of cups required to yield a probability of 1% with the taster getting one wrong is 10.\n",
    "***"
   ]
  },
  {
   "cell_type": "markdown",
   "id": "6796e14b-8423-40ac-9ffc-eea8b6299e29",
   "metadata": {},
   "source": [
    "__Use scipy's version of Fisher's exact test to simulate the Lady Tasting Tea problem.__"
   ]
  },
  {
   "cell_type": "code",
   "execution_count": 10,
   "id": "7b49ebfb-843e-4420-869e-8712f8dd0da2",
   "metadata": {},
   "outputs": [],
   "source": [
    "# Importing scipy stats\n",
    "\n",
    "import scipy.stats as ss"
   ]
  },
  {
   "cell_type": "markdown",
   "id": "ffcfc04e-3b0c-438e-bb57-87f3057afa2b",
   "metadata": {},
   "source": [
    "Scipy is an open source Python library that is used to perform a wide variety of scientific and technical computing tasks, including statistical operations. <br>\n",
    "Ref: https://en.wikipedia.org/wiki/SciPy <br>\n",
    "Ref: https://docs.scipy.org/doc/scipy/reference/stats.html <br>\n",
    "***\n",
    "<br>\n",
    "Fisher's exact test is used to analyse categorical datasets that are classified in two different ways. <br>\n",
    "In this case our two classifications are either the tea was made with milk first, or the tea was made with milk added second. <br>\n",
    "The result yielded is called a \"P-value\" which indicates the difference from a null hypothesis. <br>\n",
    "The null hypothesis in this case would be that the lady is completely guessing and can't tell the difference between the cups of tea. <br>"
   ]
  },
  {
   "cell_type": "markdown",
   "id": "1193edb8-dafc-4726-a2bf-1749d70f5d42",
   "metadata": {},
   "source": [
    "***\n",
    "The fisher exact table below is entered in a 2-Dimensional manner.<br>\n",
    "The first square brackets [4,0] indicates the likelihood of the lady selecting 4 correct cups of tea which had milk added first.<br>\n",
    "The second square brackets [0,4] is the other extreme where the lady does not select any correct cup of tea. <br>\n",
    "The data inbetween is also plotted i.e [1,3], [2,2], [3,1] etc.<br>\n",
    "This is where the lady selects 1 correct, 2, correct, 3 correct etc. <br>\n"
   ]
  },
  {
   "cell_type": "code",
   "execution_count": 11,
   "id": "d02c08a4-802e-4a90-8760-5e26cfbf2fbc",
   "metadata": {},
   "outputs": [
    {
     "data": {
      "text/plain": [
       "(inf, 0.028571428571428536)"
      ]
     },
     "execution_count": 11,
     "metadata": {},
     "output_type": "execute_result"
    }
   ],
   "source": [
    "# using scipy stats\n",
    "# The P - value below is 0.0285, double the probability calculated previously.\n",
    "# As this is a 2 sided test this gives the probabaility at both ends of the plot i.e. double.\n",
    "\n",
    "ss.fisher_exact([[4,0],[0,4]])"
   ]
  },
  {
   "cell_type": "code",
   "execution_count": 12,
   "id": "a27744b9-b04c-4349-a0e8-978edeeb8087",
   "metadata": {},
   "outputs": [
    {
     "data": {
      "text/plain": [
       "array([0.01428571, 0.22857143, 0.51428571, 0.22857143, 0.01428571])"
      ]
     },
     "execution_count": 12,
     "metadata": {},
     "output_type": "execute_result"
    }
   ],
   "source": [
    "# Adapted from official scipy documentation\n",
    "# Ref: https://docs.scipy.org/doc/scipy/reference/generated/scipy.stats.fisher_exact.html\n",
    "# Hypergeometric is a discrete random variable where the data is chosen from a bin\n",
    "# Ref: https://docs.scipy.org/doc/scipy/reference/generated/scipy.stats.hypergeom.html#scipy.stats.hypergeom\n",
    "\n",
    "from scipy.stats import hypergeom\n",
    "import numpy as np\n",
    "table = np.array([[4, 0], [0, 4]])\n",
    "M = table.sum()\n",
    "n = table[0].sum()\n",
    "N = table[:, 0].sum()\n",
    "start, end = hypergeom.support(M, n, N)\n",
    "hypergeom.pmf(np.arange(start, end+1), M, n, N)"
   ]
  },
  {
   "cell_type": "markdown",
   "id": "99eff73d-5b6e-4d63-badf-c752b045e6a7",
   "metadata": {},
   "source": [
    "The above results are an indication of the probabilities of each outcome.<br>\n",
    "The probability of selecting all four cups correctly is approx. 1.4% (0.014 * 100)<br>\n",
    "The probability of selecting 3 out of 4 cups correctly is 22.85%, and so on <br>\n",
    "This is a more efficient way of calculating the probability of all possible outcomes. <br>\n",
    "This could be done using the math.comb function but this would be more labour intensive\n",
    "***"
   ]
  },
  {
   "cell_type": "markdown",
   "id": "dab1a51a-6421-44af-a044-0b642399c08a",
   "metadata": {},
   "source": [
    "The evaluation of these results is typically done by assessing the p-value and comparing to 0 and 0.05. <br>\n",
    "The closer the value to zero the more likely that the null hypothesis can be rejected. <br>\n",
    "In this case the null hypothesis is that the lady can't distinguish between the two types of tea. <br>\n",
    "The 0.05 value is an arbritrary value (5% probability) that there is some statistical significance in the data. <br>\n",
    "As previously stated, the lady has a 1.4% probability (1 in 70) of selecting the correct cups at random without any tasting. <br>\n",
    "Fisher's Lady Tasting Tea Problem has now been simulated using scipy.stats.\n",
    "***\n",
    "\n"
   ]
  },
  {
   "cell_type": "markdown",
   "id": "17247b78-b2c6-4eb0-b7f5-05af012293a4",
   "metadata": {},
   "source": [
    "## Exercise 1.2 - Example code given in scipy stats for independent t-test\n",
    "Taking the example code from the scipy stats literature, adding comments and optimizing. <br>\n",
    "[Scipy Stats Documentation](https://docs.scipy.org/doc/scipy/reference/generated/scipy.stats.ttest_ind.html)"
   ]
  },
  {
   "cell_type": "code",
   "execution_count": 13,
   "id": "c0158fd3-afce-4f6d-845e-52adfb81672b",
   "metadata": {},
   "outputs": [],
   "source": [
    "from scipy import stats\n",
    "import numpy as np\n",
    "rng = np.random.default_rng(123456)\n",
    "# Importing scipy stats, numpy, and a random number generator to generate large arrays to test"
   ]
  },
  {
   "cell_type": "code",
   "execution_count": 14,
   "id": "65ab5286-52ed-4000-8ae5-d59445428d75",
   "metadata": {},
   "outputs": [
    {
     "data": {
      "text/plain": [
       "Ttest_indResult(statistic=2.2057925333835944, pvalue=0.027625806725740155)"
      ]
     },
     "execution_count": 14,
     "metadata": {},
     "output_type": "execute_result"
    }
   ],
   "source": [
    "# First example is a t-test on two sets of data with the same mean\n",
    "# In this case two variables are created using the same conditions of\n",
    "# mean (loc) = 5, standard seviation(scale) = 10 and equal number of values (size) = 500\n",
    "# The rng is the same for both  but there will be different individual values\n",
    "# As the default \"equal_var\" is used (assuming equal population variances)\n",
    "rvs1 = stats.norm.rvs(loc=5, scale=10, size=500, random_state=rng)\n",
    "rvs2 = stats.norm.rvs(loc=5, scale=10, size=500, random_state=rng)\n",
    "stats.ttest_ind(rvs1, rvs2)\n"
   ]
  },
  {
   "cell_type": "code",
   "execution_count": 15,
   "id": "7263da1f-f7f3-4ede-9921-872685d29c41",
   "metadata": {},
   "outputs": [
    {
     "data": {
      "text/plain": [
       "Ttest_indResult(statistic=2.205792533383595, pvalue=0.027625815018997385)"
      ]
     },
     "execution_count": 15,
     "metadata": {},
     "output_type": "execute_result"
    }
   ],
   "source": [
    "# In this case the population variances are assumed to be different.\n",
    "# Welch's t-test is applied here\n",
    "stats.ttest_ind(rvs1, rvs2, equal_var=False)"
   ]
  },
  {
   "cell_type": "code",
   "execution_count": 16,
   "id": "e3ce54c2-063b-4bc2-bba0-9ade04455bbc",
   "metadata": {},
   "outputs": [
    {
     "data": {
      "text/plain": [
       "Ttest_indResult(statistic=3.840207944553338, pvalue=0.00013067828674517335)"
      ]
     },
     "execution_count": 16,
     "metadata": {},
     "output_type": "execute_result"
    }
   ],
   "source": [
    "# In this example the variance is changed by adjusting the scale (std. dev.)\n",
    "rvs3 = stats.norm.rvs(loc=5, scale=20, size=500, random_state=rng)\n",
    "stats.ttest_ind(rvs1, rvs3)"
   ]
  },
  {
   "cell_type": "code",
   "execution_count": 17,
   "id": "af33c6cf-5fb2-4ead-9ee9-0c84caf22c81",
   "metadata": {},
   "outputs": [
    {
     "data": {
      "text/plain": [
       "Ttest_indResult(statistic=3.840207944553338, pvalue=0.00013359292613836685)"
      ]
     },
     "execution_count": 17,
     "metadata": {},
     "output_type": "execute_result"
    }
   ],
   "source": [
    "# Different standard deviations  but population variance also assumed to be different, Welch's t-test\n",
    "stats.ttest_ind(rvs1, rvs3, equal_var=False)"
   ]
  },
  {
   "cell_type": "code",
   "execution_count": 18,
   "id": "97b8a7de-a212-4c05-a3a3-f4444423847f",
   "metadata": {},
   "outputs": [
    {
     "data": {
      "text/plain": [
       "Ttest_indResult(statistic=0.5880566529111328, pvalue=0.5567162745903518)"
      ]
     },
     "execution_count": 18,
     "metadata": {},
     "output_type": "execute_result"
    }
   ],
   "source": [
    "# Size of second sample reduced from 500 to 100, std. dev. maintained at 20\n",
    "# Different sample sizes yield different results for the two t-tests (equal vs. unequal variance t-tests)\n",
    "rvs4 = stats.norm.rvs(loc=5, scale=20, size=100, random_state=rng)\n",
    "stats.ttest_ind(rvs1, rvs4)"
   ]
  },
  {
   "cell_type": "code",
   "execution_count": 19,
   "id": "90230168-d9bb-4f80-9ac8-239e6dd5758c",
   "metadata": {},
   "outputs": [
    {
     "data": {
      "text/plain": [
       "Ttest_indResult(statistic=0.41003925126190405, pvalue=0.682561083538654)"
      ]
     },
     "execution_count": 19,
     "metadata": {},
     "output_type": "execute_result"
    }
   ],
   "source": [
    "# Assumed different variances (Welch's t-test)\n",
    "stats.ttest_ind(rvs1, rvs4, equal_var=False)"
   ]
  },
  {
   "cell_type": "code",
   "execution_count": 20,
   "id": "4a1f47d3-bc16-47df-aa1b-4c25155e9ca2",
   "metadata": {},
   "outputs": [
    {
     "data": {
      "text/plain": [
       "Ttest_indResult(statistic=-2.2593701894479685, pvalue=0.024219519436319857)"
      ]
     },
     "execution_count": 20,
     "metadata": {},
     "output_type": "execute_result"
    }
   ],
   "source": [
    "# Different means, variance and size\n",
    "rvs5 = stats.norm.rvs(loc=8, scale=20, size=100, random_state=rng)\n",
    "stats.ttest_ind(rvs1, rvs5)"
   ]
  },
  {
   "cell_type": "code",
   "execution_count": 21,
   "id": "53288f7c-1db3-49ca-8f90-925a7220c780",
   "metadata": {},
   "outputs": [
    {
     "data": {
      "text/plain": [
       "Ttest_indResult(statistic=-1.421609763450849, pvalue=0.15803124827053963)"
      ]
     },
     "execution_count": 21,
     "metadata": {},
     "output_type": "execute_result"
    }
   ],
   "source": [
    "# Assumed different variances (Welch's t-test)\n",
    "stats.ttest_ind(rvs1, rvs5, equal_var=False)"
   ]
  },
  {
   "cell_type": "code",
   "execution_count": 22,
   "id": "58b54078-7706-460e-8658-f13e3bac19a4",
   "metadata": {},
   "outputs": [
    {
     "data": {
      "text/plain": [
       "Ttest_indResult(statistic=-2.2593701894479685, pvalue=0.023)"
      ]
     },
     "execution_count": 22,
     "metadata": {},
     "output_type": "execute_result"
    }
   ],
   "source": [
    "# Additional permutations of the same arrays leads to a more accurate t-test\n",
    "stats.ttest_ind(rvs1, rvs5, permutations=10000,random_state=rng)"
   ]
  },
  {
   "cell_type": "code",
   "execution_count": 23,
   "id": "094df519-c6d7-4468-9043-19ff81c36ded",
   "metadata": {},
   "outputs": [],
   "source": [
    "a = (56, 128.6, 12, 123.8, 64.34, 78, 763.3)\n",
    "b = (1.1, 2.9, 4.2)"
   ]
  },
  {
   "cell_type": "code",
   "execution_count": 24,
   "id": "563e72ed-2c14-4f90-b01c-5e10359a289c",
   "metadata": {},
   "outputs": [
    {
     "data": {
      "text/plain": [
       "Ttest_indResult(statistic=3.4463884028073513, pvalue=0.01369338726499547)"
      ]
     },
     "execution_count": 24,
     "metadata": {},
     "output_type": "execute_result"
    }
   ],
   "source": [
    "# Trimming, in this case 20%, from the array to remove extreme outliers\n",
    "# In this case the extreme outlier is 763.3 at the end of array a, array b is not affected\n",
    "stats.ttest_ind(a, b, trim=.2)"
   ]
  },
  {
   "cell_type": "markdown",
   "id": "9fcdc3cf-e518-4bf4-b02c-7f35eed92f97",
   "metadata": {},
   "source": [
    "### Code Improvements\n",
    "Cleaner code from the scipy stats example above to make it easier to read for the user\n",
    "***"
   ]
  },
  {
   "cell_type": "code",
   "execution_count": 25,
   "id": "5343a912-90df-45f7-9b45-29616ccf19f5",
   "metadata": {},
   "outputs": [],
   "source": [
    "# Adding all arrays to one cell and adding appropriate variable names to identify easier\n",
    "arr1 = stats.norm.rvs(loc=5, scale=10, size=500, random_state=rng)\n",
    "arr2 = stats.norm.rvs(loc=5, scale=10, size=500, random_state=rng)\n",
    "arr3_sd = stats.norm.rvs(loc=5, scale=20, size=500, random_state=rng)\n",
    "arr4_size = stats.norm.rvs(loc=5, scale=20, size=100, random_state=rng)\n",
    "arr5_all = stats.norm.rvs(loc=8, scale=20, size=100, random_state=rng)\n",
    "to_be_trimmed = (56, 128.6, 12, 123.8, 64.34, 78, 763.3)\n",
    "not_trimmed = (1.1, 2.9, 4.2)"
   ]
  },
  {
   "cell_type": "code",
   "execution_count": 26,
   "id": "1b51a40b-0328-4d9a-927c-b0fe8415e563",
   "metadata": {},
   "outputs": [],
   "source": [
    "# Seeting all tests as variables to easily identify what they are\n",
    "Same_Means = stats.ttest_ind(arr1, arr2)\n",
    "Same_Means_Welch = stats.ttest_ind(arr1, arr2, equal_var=False)\n",
    "Diff_Var = stats.ttest_ind(arr1, arr3_sd)\n",
    "Diff_Var_Welch = stats.ttest_ind(arr1, arr3_sd, equal_var=False)\n",
    "Diff_Sizes = stats.ttest_ind(arr1, arr4_size)\n",
    "Diff_Sizes_Welch = stats.ttest_ind(arr1, arr4_size, equal_var=False)\n",
    "Diff_All = stats.ttest_ind(arr1, arr5_all)\n",
    "Diff_All_Welch = stats.ttest_ind(arr1, arr5_all, equal_var=False)\n",
    "Perm =  stats.ttest_ind(arr1, arr5_all, permutations=10000,random_state=rng)\n",
    "Trim = stats.ttest_ind(to_be_trimmed, not_trimmed, trim=.2)\n"
   ]
  },
  {
   "cell_type": "code",
   "execution_count": 27,
   "id": "ac16e0ff-43b9-4192-a6f2-fad6aefcbe27",
   "metadata": {},
   "outputs": [
    {
     "name": "stdout",
     "output_type": "stream",
     "text": [
      "Ttest_indResult(statistic=-0.13834707995597603, pvalue=0.8899940276456497)\n"
     ]
    }
   ],
   "source": [
    "# Outputting all test results below\n",
    "# Variable names negates the need to comment each one for the user\n",
    "print (Same_Means)"
   ]
  },
  {
   "cell_type": "code",
   "execution_count": 28,
   "id": "b52d64f9-2db5-48b1-a2ab-0d97c3e26db4",
   "metadata": {},
   "outputs": [
    {
     "name": "stdout",
     "output_type": "stream",
     "text": [
      "Ttest_indResult(statistic=-0.13834707995597603, pvalue=0.8899940613883501)\n"
     ]
    }
   ],
   "source": [
    "print(Same_Means_Welch)"
   ]
  },
  {
   "cell_type": "code",
   "execution_count": 29,
   "id": "a3ddde6c-ed38-4dac-b1df-9f5c5d1e8c14",
   "metadata": {},
   "outputs": [
    {
     "name": "stdout",
     "output_type": "stream",
     "text": [
      "Ttest_indResult(statistic=1.8826548992010481, pvalue=0.06003784807179113)\n"
     ]
    }
   ],
   "source": [
    "print(Diff_Var)"
   ]
  },
  {
   "cell_type": "code",
   "execution_count": 30,
   "id": "ad1d76d3-e70b-427d-a880-30f45c0d12ec",
   "metadata": {},
   "outputs": [
    {
     "name": "stdout",
     "output_type": "stream",
     "text": [
      "Ttest_indResult(statistic=1.8826548992010486, pvalue=0.06014736330234177)\n"
     ]
    }
   ],
   "source": [
    "print(Diff_Var_Welch)"
   ]
  },
  {
   "cell_type": "code",
   "execution_count": 31,
   "id": "2686aa89-fe2f-40c1-b0e1-d92f6cbdf17c",
   "metadata": {},
   "outputs": [
    {
     "name": "stdout",
     "output_type": "stream",
     "text": [
      "Ttest_indResult(statistic=0.04256861985712979, pvalue=0.9660596197483844)\n"
     ]
    }
   ],
   "source": [
    "print(Diff_Sizes)"
   ]
  },
  {
   "cell_type": "code",
   "execution_count": 32,
   "id": "d81d5b57-a5d3-4989-ad27-58a76bfcf8fa",
   "metadata": {},
   "outputs": [
    {
     "name": "stdout",
     "output_type": "stream",
     "text": [
      "Ttest_indResult(statistic=0.03089638281636195, pvalue=0.9754062428844393)\n"
     ]
    }
   ],
   "source": [
    "print(Diff_Sizes_Welch)"
   ]
  },
  {
   "cell_type": "code",
   "execution_count": 33,
   "id": "2341b19b-16cc-42ae-92f5-7a8a4bfb38aa",
   "metadata": {},
   "outputs": [
    {
     "name": "stdout",
     "output_type": "stream",
     "text": [
      "Ttest_indResult(statistic=-2.0474983918820535, pvalue=0.04104554120659462)\n"
     ]
    }
   ],
   "source": [
    "print(Diff_All)"
   ]
  },
  {
   "cell_type": "code",
   "execution_count": 34,
   "id": "63d28e92-44f6-4ec0-a2c9-110b413fa11d",
   "metadata": {},
   "outputs": [
    {
     "name": "stdout",
     "output_type": "stream",
     "text": [
      "Ttest_indResult(statistic=-1.2534205566732703, pvalue=0.21279380410311588)\n"
     ]
    }
   ],
   "source": [
    "print(Diff_All_Welch)"
   ]
  },
  {
   "cell_type": "code",
   "execution_count": 35,
   "id": "c09d8b6c-1c54-4f2a-bb7c-1c45492eace6",
   "metadata": {},
   "outputs": [
    {
     "name": "stdout",
     "output_type": "stream",
     "text": [
      "Ttest_indResult(statistic=-2.0474983918820535, pvalue=0.0399)\n"
     ]
    }
   ],
   "source": [
    "print(Perm)"
   ]
  },
  {
   "cell_type": "code",
   "execution_count": 36,
   "id": "3775cd28-3c53-4583-b357-6e8598a26aa1",
   "metadata": {},
   "outputs": [
    {
     "name": "stdout",
     "output_type": "stream",
     "text": [
      "Ttest_indResult(statistic=3.4463884028073513, pvalue=0.01369338726499547)\n"
     ]
    }
   ],
   "source": [
    "print(Trim)"
   ]
  },
  {
   "cell_type": "markdown",
   "id": "7df88746-b61b-4830-a6b7-e4ff45ddcb9d",
   "metadata": {},
   "source": [
    "All results are now outputted together using variables that are self-explanatory for easy analysis.\n",
    "***"
   ]
  },
  {
   "cell_type": "markdown",
   "id": "4f85f302-4709-4bb0-876b-01cb4d8f3607",
   "metadata": {},
   "source": [
    "# End\n",
    "***\n",
    "***"
   ]
  }
 ],
 "metadata": {
  "kernelspec": {
   "display_name": "Python 3",
   "language": "python",
   "name": "python3"
  },
  "language_info": {
   "codemirror_mode": {
    "name": "ipython",
    "version": 3
   },
   "file_extension": ".py",
   "mimetype": "text/x-python",
   "name": "python",
   "nbconvert_exporter": "python",
   "pygments_lexer": "ipython3",
   "version": "3.8.8"
  }
 },
 "nbformat": 4,
 "nbformat_minor": 5
}
