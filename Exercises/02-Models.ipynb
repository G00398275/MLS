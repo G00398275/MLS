{
 "cells": [
  {
   "cell_type": "markdown",
   "id": "560f077f-3057-4717-b78c-7847ea7bac94",
   "metadata": {},
   "source": [
    "# Ross Downey - Machine Learning & Statistics\n",
    "\n",
    "# ATU - Winter 2022\n",
    "\n",
    "## Models - Exercises\n",
    "\n",
    "### Exercise 2.1\n",
    "***\n",
    "<br><br>\n",
    "Use numpy and matplotlib to plot the absolute value function. <br>\n",
    "\n",
    "Research and explain why the absolute value function is not typically used in fitting straight lines to data.\n",
    "***\n"
   ]
  },
  {
   "cell_type": "markdown",
   "id": "efc17d5e-6392-4e6a-8de2-b007fafc627f",
   "metadata": {},
   "source": [
    "### Background\n",
    "The purposes of this exercise is to plot the linear regression model using numpy and matplotlib. <br>\n",
    "Instead of using the sum of least squares method, this plot will involve the use of absolute values <br>\n",
    "for calculating the cost.<br>\n",
    "An explanation will be provided as to why this is not the typical approach <br>\n",
    "***"
   ]
  },
  {
   "cell_type": "code",
   "execution_count": 1,
   "id": "4f8fd655-9beb-4b7a-82e0-4d41aa5502af",
   "metadata": {},
   "outputs": [],
   "source": [
    "# Import matplotlib, scipy and numpy\n",
    "import matplotlib.pyplot as plt\n",
    "import scipy.stats as ss\n",
    "import numpy as np\n",
    "\n",
    "# Changing default size of plots for better presentation\n",
    "plt.rcParams['figure.figsize'] = (8, 6)"
   ]
  },
  {
   "cell_type": "markdown",
   "id": "e2e83241-cab1-4749-a267-c1a314e18be7",
   "metadata": {},
   "source": [
    "## Example\n",
    "Preferrable to use an example of a real world activity instead of just pure numbers to outline. <br>\n",
    "In this case a pharmaceutcial laboratory analyst is preparing a set of calibration standards <br>\n",
    "for use in quantifying a set of drug substance samples with possible impurities. <br>\n",
    "The analyst creates a set of standards in the range of 0 to 100ppm (parts per million) in increments of 5ppm.<br>\n",
    "The analyst can then run samples, of unknown concentration, and quantify these samples using the calibration plot."
   ]
  },
  {
   "cell_type": "code",
   "execution_count": 20,
   "id": "5c045158-d619-4df5-939e-4d2acc0c8bb5",
   "metadata": {},
   "outputs": [],
   "source": [
    "# Generate plot using numpy\n",
    "# x-axis values will be the calibration standard's concentration (input variables)\n",
    "# y-axis values will be the measured response of these standards in Au (Absorbance units, arbitrary) (measured variable)\n",
    "\n",
    "# stds array up to 100ppm in increments of 5ppm\n",
    "stds = np.arange(0.0, 100, 5.0)\n",
    "# results array (in absorbance units, au)\n",
    "# 20 is slope, 0.1 is y-intercept\n",
    "# Noise is introduced as not all measurments are 100% accurate, instrument variations, preparation variations etc.\n",
    "# Mean of 0.0 for noise, std deviation of 20.0 and 20 values\n",
    "au = 20 * stds + 0.1 + np.random.normal(0.0, 40.0, stds.size)"
   ]
  },
  {
   "cell_type": "code",
   "execution_count": 14,
   "id": "80421670-97a6-4a1c-98c8-ecc21dd40ebe",
   "metadata": {},
   "outputs": [
    {
     "data": {
      "text/plain": [
       "array([ 0.,  5., 10., 15., 20., 25., 30., 35., 40., 45., 50., 55., 60.,\n",
       "       65., 70., 75., 80., 85., 90., 95.])"
      ]
     },
     "execution_count": 14,
     "metadata": {},
     "output_type": "execute_result"
    }
   ],
   "source": [
    "stds"
   ]
  },
  {
   "cell_type": "code",
   "execution_count": 21,
   "id": "a23d121f-f4cc-4e25-a93b-fac05b60120d",
   "metadata": {},
   "outputs": [
    {
     "data": {
      "text/plain": [
       "array([  61.36976845,   85.12074726,  144.12686116,  347.93106151,\n",
       "        404.379517  ,  434.93904368,  582.53430887,  704.74392339,\n",
       "        816.76616762,  898.03057293, 1012.41867686, 1111.56923777,\n",
       "       1167.46056976, 1348.33819662, 1404.35996376, 1481.76748752,\n",
       "       1558.46671434, 1710.34074098, 1757.51349504, 1902.52260403])"
      ]
     },
     "execution_count": 21,
     "metadata": {},
     "output_type": "execute_result"
    }
   ],
   "source": [
    "au"
   ]
  },
  {
   "cell_type": "code",
   "execution_count": 22,
   "id": "3fafc83b-d63a-4856-9ba7-ee146ea9f0b5",
   "metadata": {},
   "outputs": [
    {
     "data": {
      "image/png": "[encoded data removed]",
      "text/plain": [
       "<Figure size 576x432 with 1 Axes>"
      ]
     },
     "metadata": {
      "needs_background": "light"
     },
     "output_type": "display_data"
    }
   ],
   "source": [
    "# Plotting for visual understanding\n",
    "\n",
    "plt.plot(stds, au, 'k.')\n",
    "\n",
    "# Axis labels for clarity\n",
    "plt.xlabel('Concentration (ppm)')\n",
    "plt.ylabel('Absorbance (Au)')\n",
    "\n",
    "# Show the plot.\n",
    "plt.show()"
   ]
  },
  {
   "cell_type": "markdown",
   "id": "a380d6ad-7220-463e-9c15-6d8d984fda23",
   "metadata": {},
   "source": [
    "A straight line will now be fitted over the model using the equation of line from the generated data.<br>\n",
    "There are numerous options for fitting a straight line but in this case it is sufficient to plot one.<br>\n",
    "The equation of the line in this case (ignoring the random noise) is y = 20x + 0.1"
   ]
  },
  {
   "cell_type": "code",
   "execution_count": 23,
   "id": "3b558279-de4f-4a5a-b7c5-e8a8364c2edb",
   "metadata": {},
   "outputs": [
    {
     "data": {
      "image/png": "[encoded data removed]",
      "text/plain": [
       "<Figure size 576x432 with 1 Axes>"
      ]
     },
     "metadata": {
      "needs_background": "light"
     },
     "output_type": "display_data"
    }
   ],
   "source": [
    "# Plot above data again\n",
    "plt.plot(stds, au, 'k.')\n",
    "\n",
    "# Overlay line of best fit on the plot.\n",
    "x = np.arange(0.0, 100.0, 5.0)\n",
    "plt.plot(x, 20.0 * x + 0.1, 'r-', label=r\"$20x + 0.1$\")\n",
    "\n",
    "\n",
    "# Add a legend.\n",
    "plt.legend()\n",
    "\n",
    "# Axis labels for clarity\n",
    "plt.xlabel('Concentration (ppm)')\n",
    "plt.ylabel('Absorbance (Au)')\n",
    "\n",
    "# Show the plot.\n",
    "plt.show()"
   ]
  },
  {
   "cell_type": "markdown",
   "id": "51b9e4cc-8cc4-427e-8b5a-5eafd884a8f7",
   "metadata": {},
   "source": [
    "The addition of the straight help to visually confirm the linear relationship between the two sets of data <br>\n",
    "However, as some noise was added to each dependent y-value each data point does not fit perfectly on the line <br>\n",
    "In the real world this is typcial, and a line of best fit is applied i.e. which line suits the data <br>\n",
    "so that there are an equal number of datapoints above and below the line with equal distances between points and line. <br>\n",
    "***\n"
   ]
  },
  {
   "cell_type": "markdown",
   "id": "7c8c8076-f50f-4962-ad7e-eb4feefb9420",
   "metadata": {},
   "source": [
    "Of course, this line of best fit can also be calculated mathematically instead of visually estimating. <br>\n",
    "In this calculation the vertical distance between datapoint and the line are calculated / measured <br>\n",
    "This distance is then squared and applied to a formula to ascertain the \"best\" values of m(slope) and c (y-intercept). <br>\n",
    "These values are known as the parameters and are used to determine the best model.<br>\n",
    "This method of squaring the values is know as the least squares method and is done for a number of reasons <br>\n",
    "These will be discussed below. <br>\n",
    "For the purposes of this exercise instead of squaring the residual difference between points and line <br>\n",
    "the absolute value will be employed instead of squaring. <br>\n",
    "This can bring up some difficulties and challenges which will also be discussed below.\n",
    "The best parameter values are known as the cost.\n",
    "***\n"
   ]
  },
  {
   "cell_type": "code",
   "execution_count": 28,
   "id": "2cee97d1-9f5e-4f1b-8da6-075aa45dfebc",
   "metadata": {},
   "outputs": [
    {
     "name": "stdout",
     "output_type": "stream",
     "text": [
      "Cost with m = 20.00 and c =  0.10:   -67.30\n"
     ]
    }
   ],
   "source": [
    "# Calculating the cost using absolute values (note no squaring of residuals)\n",
    "cost = lambda m,c: np.sum([(au[i] - m * stds[i] - c) for i in range(stds.size)])\n",
    "\n",
    "print(\"Cost with m = %5.2f and c = %5.2f: %8.2f\" % (20.0, 0.1, cost(20.0, 0.1)))"
   ]
  },
  {
   "cell_type": "markdown",
   "id": "3b49fb9c-9a10-49c5-9846-edd123206a5e",
   "metadata": {},
   "source": [
    "Issue already seen with using the absolute values is the presence of a negative cost. <br>\n",
    "As we are not squaring the residual values some negative values will be seen <br>\n",
    "Squaring the residuals removes all negative values <br>\n",
    "***"
   ]
  },
  {
   "cell_type": "markdown",
   "id": "0bbeb44f-b1c5-413d-a7c2-4b71e19211e8",
   "metadata": {},
   "source": [
    "The actual best values for slope and y-intercept can be calculated using the below code"
   ]
  },
  {
   "cell_type": "code",
   "execution_count": 31,
   "id": "64234f67-f2c4-45a8-a230-8e0dedd4be79",
   "metadata": {},
   "outputs": [
    {
     "name": "stdout",
     "output_type": "stream",
     "text": [
      "m is 19.833356 and c is 4.650583.\n"
     ]
    }
   ],
   "source": [
    "# Calculate the best values for m and c.\n",
    "\n",
    "# Need mean values of each dataset.\n",
    "stds_avg = np.mean(stds)\n",
    "au_avg = np.mean(au)\n",
    "\n",
    "# Subtract means from each variable\n",
    "stds_zero = stds - stds_avg\n",
    "au_zero = au - au_avg\n",
    "\n",
    "# Best value for m\n",
    "m = np.sum(stds_zero * au_zero) / np.sum(stds_zero * stds_zero)\n",
    "\n",
    "# Use m from above to calculate the best c.\n",
    "c = au_avg - m * stds_avg\n",
    "\n",
    "print(\"m is %8.6f and c is %6.6f.\" % (m, c))"
   ]
  },
  {
   "cell_type": "markdown",
   "id": "9632f9f4-65f9-4701-951c-4af99bf580ca",
   "metadata": {},
   "source": [
    "The above implies that the actual best line to fit the data is y = m(19.83) + 4.65. <br>\n",
    "Note: removing the square values from the best value for m calculation led to a code error. <br>\n",
    "This is because it was trying to divide by zero in some cases. Another flaw in the absolute values method. <br>\n",
    "***"
   ]
  },
  {
   "cell_type": "markdown",
   "id": "874bdffe-3a3b-428b-9c58-bc20f102aee2",
   "metadata": {},
   "source": [
    "Numpy also has a function called polyfit which will determine the best parameter values"
   ]
  },
  {
   "cell_type": "code",
   "execution_count": 36,
   "id": "362888fb-1bba-402e-981e-7d09698540d8",
   "metadata": {},
   "outputs": [
    {
     "data": {
      "text/plain": [
       "array([19.83335579,  4.650583  ])"
      ]
     },
     "execution_count": 36,
     "metadata": {},
     "output_type": "execute_result"
    }
   ],
   "source": [
    "np.polyfit(stds, au, 1)"
   ]
  },
  {
   "cell_type": "code",
   "execution_count": 34,
   "id": "10574fc2-3619-45ae-9b0c-47c0488cbe28",
   "metadata": {},
   "outputs": [
    {
     "data": {
      "image/png": "[encoded data removed]",
      "text/plain": [
       "<Figure size 576x432 with 1 Axes>"
      ]
     },
     "metadata": {
      "needs_background": "light"
     },
     "output_type": "display_data"
    }
   ],
   "source": [
    "# Plot above data again\n",
    "plt.plot(stds, au, 'k.')\n",
    "\n",
    "# Overlay line of best fit on the plot, using best values determined\n",
    "x = np.arange(0.0, 100.0, 5.0)\n",
    "plt.plot(x, 19.83 * x + 4.65, 'r-', label=r\"$19.83x + 4.65$\")\n",
    "\n",
    "\n",
    "# Add a legend.\n",
    "plt.legend()\n",
    "\n",
    "# Axis labels for clarity\n",
    "plt.xlabel('Concentration (ppm)')\n",
    "plt.ylabel('Absorbance (Au)')\n",
    "\n",
    "# Show the plot.\n",
    "plt.show()"
   ]
  },
  {
   "cell_type": "markdown",
   "id": "b4598c09-76a5-41e3-b703-00003874c06f",
   "metadata": {},
   "source": [
    "## Issues with using absolute values"
   ]
  },
  {
   "cell_type": "markdown",
   "id": "2e024d9f-2353-429f-bbf6-a0050bcf8c46",
   "metadata": {},
   "source": [
    "There are a few issues with using absolute values instead of the least squares method <br>\n",
    "As mentioned above, using the absolute values leaves negative values for some of the residual values <br>\n",
    "Squaring these removes the negative values. <br>\n",
    "If we were to use the absolute values then we would have positive and negative values in our assessment. <br>\n",
    "These could then start to cancel each other out leading to a less accurate calculation of the m value <br>\n",
    "where the sum of all is used [1].\n",
    "Another benefit of the least squares method is that each difference is, in a way magnified, <br>\n",
    "by squaring the value. This helps us to determine the best parameters in a more accurate manner <br>\n",
    "as the error has been increased.<br>\n",
    "In terms of mathemtically calculating the best value of m the differentiation of certain values is needed <br>\n",
    "where the first derivative is set equal to zero. <br>\n",
    "This cannot be done using calculus, but can be done by estimating best fit values and measuring the resiudals.<br>\n",
    "From this it can be stated that the least squares method is a much simpler way of measuring the best parameter<br>\n",
    "values of a linear plot."
   ]
  },
  {
   "cell_type": "markdown",
   "id": "e2f422ea-979a-456b-aef6-85971787b117",
   "metadata": {},
   "source": [
    "## References\n",
    "[1] https://www.bradthiessen.com/html5/docs/ols.pdf\n"
   ]
  },
  {
   "cell_type": "markdown",
   "id": "9bbc1841-2381-4826-9f35-1e9dda15989d",
   "metadata": {},
   "source": [
    "***\n",
    "# End"
   ]
  }
 ],
 "metadata": {
  "kernelspec": {
   "display_name": "Python 3",
   "language": "python",
   "name": "python3"
  },
  "language_info": {
   "codemirror_mode": {
    "name": "ipython",
    "version": 3
   },
   "file_extension": ".py",
   "mimetype": "text/x-python",
   "name": "python",
   "nbconvert_exporter": "python",
   "pygments_lexer": "ipython3",
   "version": "3.8.8"
  }
 },
 "nbformat": 4,
 "nbformat_minor": 5
}
